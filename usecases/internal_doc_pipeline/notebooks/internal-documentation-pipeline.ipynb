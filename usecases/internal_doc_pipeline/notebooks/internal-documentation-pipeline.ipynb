{
 "cells": [
  {
   "cell_type": "code",
   "execution_count": 22,
   "metadata": {},
   "outputs": [],
   "source": [
    "#!chmod +x ../../../setup.sh\n",
    "#!cd ../../.. && bash setup.sh OpenAI\n",
    "#!pip install langchain-community\n",
    "#!pip install beautifulsoup4\n",
    "#!pip install langchain_openai\n",
    "\n",
    "#!pip install langchain-postgres\n",
    "#!pip install \"unstructured[all-docs]\"\n",
    "#!pip install sentence-transformers"
   ]
  },
  {
   "cell_type": "markdown",
   "metadata": {},
   "source": [
    "## RAG pipeline for summarizing internal documentation\n",
    "\n",
    "Goal:\n",
    "1. Load the confluence documentation which are in markdown format\n",
    "2. Chunk and embed the confluence documentation\n",
    "3. Generate vector embeddings and store in vectordb\n",
    "4. Similarity search from vectordb"
   ]
  },
  {
   "cell_type": "markdown",
   "metadata": {},
   "source": [
    "### Load documentation"
   ]
  },
  {
   "cell_type": "markdown",
   "metadata": {},
   "source": [
    "#### Load and pre-process confluence markdown pages\n",
    "\n",
    "**Why should we clean before generating embeddings?**\n",
    "\n",
    "1. Remove Noise That Confuses the Model - LLMs are trained on well structured text, so these MD semantics doesn't make sense and also confuse which leads to in correct results\n",
    "2. Avoid Wasting Tokens - Markdown/HTML tags count as tokens when embedding — and most of the time they don’t add value.\n",
    "3. Improve Retrieval Quality - If you chunk and embed content with markdown noise, your RAG system will \n",
    "- Return less relevant results\n",
    "- Match on formatting, not concepts (e.g., # instead of “Login Flow”)\n",
    "- Generate awkward completions\n",
    "4. Better User Experience - Final response with markdown artifacts will confuse users and looks unpolished\n",
    "5. Avoid Chunking Mistakes - Markdown headers, code blocks, and lists can interfere with chunk splitting. Cleaning ensures each chunk is text-rich and meaningful."
   ]
  },
  {
   "cell_type": "code",
   "execution_count": 1,
   "metadata": {},
   "outputs": [],
   "source": [
    "import re\n",
    "\n",
    "# Function to clean markdown content\n",
    "def clean_markdown(text: str) -> str:\n",
    "    text = re.sub(r'^#+\\s*', 'Section: ', text, flags=re.MULTILINE)  # headers\n",
    "    text = re.sub(r'[*_`]+', '', text)  # bold, italics, inline code\n",
    "    text = re.sub(r'\\[(.*?)\\]\\(.*?\\)', r'\\1', text)  # links\n",
    "    text = re.sub(r'^\\s*[-*+]\\s+', '- ', text, flags=re.MULTILINE)  # bullet points\n",
    "    text = re.sub(r'^\\s*\\d+\\.\\s+', '- ', text, flags=re.MULTILINE)  # numbered lists\n",
    "    text = re.sub(r'\\n{2,}', '\\n\\n', text)  # extra newlines\n",
    "    return text.strip()"
   ]
  },
  {
   "cell_type": "code",
   "execution_count": 2,
   "metadata": {},
   "outputs": [],
   "source": [
    "from langchain.text_splitter import RecursiveCharacterTextSplitter\n",
    "from langchain.schema import Document\n",
    "\n",
    "def process_md_file(file_path: str) -> list[Document]:\n",
    "    with open(file_path, \"r\", encoding=\"utf-8\") as f:\n",
    "        raw_md = f.read()\n",
    "\n",
    "    cleaned_text = clean_markdown(raw_md)\n",
    "\n",
    "    # Step 3: Split using RecursiveCharacterTextSplitter\n",
    "    splitter = RecursiveCharacterTextSplitter(\n",
    "        chunk_size=500,\n",
    "        chunk_overlap=50,\n",
    "        separators=[\"\\n\\n\", \"Section:\", \"\\n\", \" \", \"\"]\n",
    "    )\n",
    "    chunks = splitter.create_documents([cleaned_text])\n",
    "\n",
    "    # Step 4: Attach filename metadata\n",
    "    for doc in chunks:\n",
    "        doc.metadata[\"source\"] = file_path\n",
    "\n",
    "    return chunks"
   ]
  },
  {
   "cell_type": "code",
   "execution_count": 3,
   "metadata": {},
   "outputs": [],
   "source": [
    "from pathlib import Path\n",
    "\n",
    "def process_md_folder(folder_path: str) -> list[Document]:\n",
    "    all_docs = []\n",
    "    for md_file in Path(folder_path).rglob(\"*.md\"):\n",
    "        docs = process_md_file(str(md_file))\n",
    "        all_docs.extend(docs)\n",
    "    return all_docs"
   ]
  },
  {
   "cell_type": "code",
   "execution_count": 4,
   "metadata": {},
   "outputs": [
    {
     "data": {
      "text/plain": [
       "[Document(metadata={'source': '../../../data/confluence/authentication_overview.md'}, page_content='markdown\\nSection: Authentication Overview\\n\\nThis document outlines the authentication mechanisms employed within the platform.\\n\\nSection: Authentication Methods\\n\\n   Password-Based Authentication: Utilizes standard username/password credentials. Password hashing implemented using bcrypt with a salt factor of 12. Password complexity requirements enforced (minimum 8 characters, one uppercase, one lowercase, one number, one special character).'),\n",
       " Document(metadata={'source': '../../../data/confluence/authentication_overview.md'}, page_content='Multi-Factor Authentication (MFA): Supports Time-based One-Time Password (TOTP) via Google Authenticator or similar. MFA is optional but strongly encouraged for privileged accounts. Recovery codes are generated and stored securely upon MFA enablement.'),\n",
       " Document(metadata={'source': '../../../data/confluence/authentication_overview.md'}, page_content='OAuth 2.0: Supports OAuth 2.0 authorization for third-party applications. Implements the Authorization Code Grant flow. Access tokens have a short lifespan (1 hour) and are refreshed using refresh tokens. Scopes are defined granularly to limit access to specific resources. Refresh tokens expire after 30 days of inactivity.'),\n",
       " Document(metadata={'source': '../../../data/confluence/authentication_overview.md'}, page_content=\"API Key Authentication: Used for programmatic access by authorized services. API keys are associated with specific permissions and are rotated periodically. API keys are stored securely and never exposed in client-side code.\\n\\nSection: Session Management\\n\\nSessions are managed using HTTP-only cookies with the 'Secure' attribute set. Session timeout is set to 30 minutes of inactivity. Sessions are invalidated upon logout.\\n\\nSection: Error Handling\"),\n",
       " Document(metadata={'source': '../../../data/confluence/authentication_overview.md'}, page_content='Section: Error Handling\\n\\nAuthentication failures are logged with detailed information (IP address, timestamp, user agent) for auditing purposes. Rate limiting is applied to authentication endpoints to prevent brute-force attacks.\\n\\nSection: Code Example (Password Hashing)\\n\\njava\\n// Example using BCrypt\\nString password = \"userpassword\";\\nString hashedPassword = BCrypt.hashpw(password, BCrypt.gensalt(12));'),\n",
       " Document(metadata={'source': '../../../data/confluence/api_versioning_strategy.md'}, page_content='markdown\\nSection: API Versioning Strategy\\n\\nThis document outlines the API versioning strategy for the platform.\\n\\nSection: Versioning Scheme\\n\\n   We use semantic versioning (SemVer) for our APIs (MAJOR.MINOR.PATCH).\\n       MAJOR: Incompatible API changes.\\n       MINOR: New functionality added in a backward-compatible manner.\\n       PATCH: Bug fixes or security patches that do not change the API.\\n\\nSection: Versioning Method'),\n",
       " Document(metadata={'source': '../../../data/confluence/api_versioning_strategy.md'}, page_content='Section: Versioning Method\\n\\n   We use URI versioning: the API version is included in the URL path (e.g., /api/v1/users, /api/v2/products).\\n\\nSection: Deprecation Policy'),\n",
       " Document(metadata={'source': '../../../data/confluence/api_versioning_strategy.md'}, page_content='Section: Deprecation Policy\\n\\n   Deprecated APIs will be announced at least 6 months prior to removal.\\n   A clear migration path will be provided for users of deprecated APIs.\\n   Deprecated APIs will continue to be supported until the announced removal date.\\n   A Deprecation header will be included in the response for deprecated APIs, indicating the API version and the recommended replacement.\\n\\nSection: Compatibility'),\n",
       " Document(metadata={'source': '../../../data/confluence/api_versioning_strategy.md'}, page_content='Section: Compatibility\\n\\n   We strive to maintain backward compatibility whenever possible.\\n   New features and enhancements are typically added as new endpoints or optional parameters to existing endpoints.\\n   When breaking changes are necessary, we will release a new major version of the API.\\n\\nSection: Code Example (API Versioning)\\n\\njava\\n@RestController\\n@RequestMapping(\"/api/v1/users\")\\npublic class UserControllerV1 {\\n    // ...\\n}'),\n",
       " Document(metadata={'source': '../../../data/confluence/api_versioning_strategy.md'}, page_content='@RestController\\n@RequestMapping(\"/api/v2/users\")\\npublic class UserControllerV2 {\\n    // ...\\n}'),\n",
       " Document(metadata={'source': '../../../data/confluence/feature_flag_framework.md'}, page_content='markdown\\nSection: Feature Flag Framework\\n\\nThis document outlines the feature flag framework used within the platform.\\n\\nSection: Purpose'),\n",
       " Document(metadata={'source': '../../../data/confluence/feature_flag_framework.md'}, page_content='Section: Purpose\\n\\n   Feature flags (also known as feature toggles) allow us to enable or disable features in production without deploying new code.\\n   This enables us to:\\n       Test new features in production with a limited number of users.\\n       Roll out features gradually to reduce risk.\\n       Quickly disable features if they cause problems.\\n       Experiment with different feature implementations.\\n\\nSection: Implementation'),\n",
       " Document(metadata={'source': '../../../data/confluence/feature_flag_framework.md'}, page_content='Section: Implementation\\n\\n   We use the LaunchDarkly or [equivalent] feature flag service.\\n   Feature flags are defined and managed through the LaunchDarkly dashboard.\\n   The SDK is integrated into the application code to evaluate feature flags at runtime.\\n\\nSection: Feature Flag Naming Convention'),\n",
       " Document(metadata={'source': '../../../data/confluence/feature_flag_framework.md'}, page_content='Section: Feature Flag Naming Convention\\n\\n   Feature flags should be named using a consistent convention: [area]-[feature]-[variant].\\n       area: The area of the application the feature affects (e.g., checkout, search).\\n       feature: A short description of the feature (e.g., new-payment-method, improved-ranking).\\n       variant: Optional suffix to indicate a specific variant of the feature (e.g., a, b).\\n\\nSection: Feature Flag Types'),\n",
       " Document(metadata={'source': '../../../data/confluence/feature_flag_framework.md'}, page_content='Section: Feature Flag Types\\n\\n   Release Flags: Used to control the release of new features to users.\\n   Experiment Flags: Used to run A/B tests and measure the impact of different feature implementations.\\n   Operational Flags: Used to control system behavior in response to operational events (e.g., disabling a feature during a peak load).\\n   Permissioning Flags: Used to grant or restrict access to features based on user roles or permissions.\\n\\nSection: Code Example (Feature Flag Evaluation)'),\n",
       " Document(metadata={'source': '../../../data/confluence/feature_flag_framework.md'}, page_content='Section: Code Example (Feature Flag Evaluation)\\n\\njava\\nimport com.launchdarkly.sdk.LDClient;\\nimport com.launchdarkly.sdk.LDUser;\\nimport com.launchdarkly.sdk.LDValue;\\n\\npublic class MyClass {\\n    private LDClient ldClient;\\n\\n    public MyClass(LDClient ldClient) {\\n        this.ldClient = ldClient;\\n    }'),\n",
       " Document(metadata={'source': '../../../data/confluence/feature_flag_framework.md'}, page_content='public void myMethod(String userId) {\\n        LDUser user = new LDUser.Builder(userId).build();\\n        boolean isEnabled = ldClient.boolVariation(\"my-new-feature\", user, false); // \"false\" is the default value\\n\\n        if (isEnabled) {\\n            // Run the new feature code\\n        } else {\\n            // Run the old code\\n        }\\n    }\\n}'),\n",
       " Document(metadata={'source': '../../../data/confluence/deployment_process.md'}, page_content='markdown\\nSection: Deployment Process\\n\\nThis document outlines the deployment process for the platform.\\n\\nSection: Continuous Integration/Continuous Deployment (CI/CD) Pipeline'),\n",
       " Document(metadata={'source': '../../../data/confluence/deployment_process.md'}, page_content='We utilize a CI/CD pipeline based on Jenkins and Docker.\\n   Code changes are committed to a Git repository (e.g., GitHub, GitLab).\\n   Jenkins automatically builds and tests the code upon each commit.\\n   If the tests pass, Jenkins creates a Docker image and pushes it to a container registry (e.g., Docker Hub, AWS ECR).\\n   The Docker image is then deployed to the target environment (e.g., development, staging, production) using Kubernetes or Docker Swarm.\\n\\nSection: Deployment Environments'),\n",
       " Document(metadata={'source': '../../../data/confluence/deployment_process.md'}, page_content='Section: Deployment Environments\\n\\n   Development: Used for rapid prototyping and experimentation. Deploys are automated and occur frequently.\\n   Staging: Used for testing and QA. Closely mirrors the production environment. Deploys are performed before each production release.\\n   Production: The live environment used by end-users. Deploys are carefully planned and executed.\\n\\nSection: Deployment Strategies'),\n",
       " Document(metadata={'source': '../../../data/confluence/deployment_process.md'}, page_content='Blue/Green Deployment: Used for zero-downtime deployments in production. Two identical environments (blue and green) are maintained. Traffic is switched from the blue environment to the green environment after the new version has been deployed and tested.'),\n",
       " Document(metadata={'source': '../../../data/confluence/deployment_process.md'}, page_content='Canary Deployment: Used to gradually roll out a new version to a small subset of users before rolling it out to the entire user base. This allows us to monitor the impact of the new version and identify any issues before they affect a large number of users.'),\n",
       " Document(metadata={'source': '../../../data/confluence/deployment_process.md'}, page_content='Section: Rollback Procedure\\n\\n   In the event of a failed deployment, we have a rollback procedure in place to quickly revert to the previous version.\\n   Rollbacks are automated and can be triggered manually or automatically based on monitoring metrics.\\n\\nSection: Code Example (Dockerfile)\\n\\ndockerfile\\nFROM openjdk:11-jre-slim\\n\\nWORKDIR /app\\n\\nCOPY target/.jar app.jar\\n\\nEXPOSE 8080\\n\\nENTRYPOINT [\"java\", \"-jar\", \"app.jar\"]'),\n",
       " Document(metadata={'source': '../../../data/confluence/onboarding_checklist.md'}, page_content='markdown\\nSection: Onboarding Checklist for Engineers\\n\\nThis document outlines the onboarding checklist for new engineers joining the team.\\n\\nSection: Phase 1: Initial Setup (Day 1-3)'),\n",
       " Document(metadata={'source': '../../../data/confluence/onboarding_checklist.md'}, page_content='[ ] Account Creation: Create accounts for necessary systems (e.g., email, Slack, Jira, Confluence, GitHub).\\n   [ ] Hardware Setup: Configure workstation with necessary software and tools.\\n   [ ] Access Granted: Request and obtain access to necessary repositories, databases, and servers.\\n   [ ] Introductions: Meet team members and key stakeholders.\\n   [ ] Onboarding Documents: Review onboarding documentation, including company policies, coding standards, and security guidelines.'),\n",
       " Document(metadata={'source': '../../../data/confluence/onboarding_checklist.md'}, page_content='[ ] IDE Setup: Configure IDE (e.g., IntelliJ, VS Code) with necessary plugins and settings.\\n   [ ] VPN Setup: Configure VPN access for remote work.'),\n",
       " Document(metadata={'source': '../../../data/confluence/onboarding_checklist.md'}, page_content='Section: Phase 2: Core Technologies (Day 4-7)'),\n",
       " Document(metadata={'source': '../../../data/confluence/onboarding_checklist.md'}, page_content='[ ] Codebase Tour: Familiarize yourself with the codebase and project structure.\\n   [ ] Build Process: Understand the build process and how to run tests.\\n   [ ] Deployment Process: Learn about the deployment process and how to deploy code to different environments.\\n   [ ] Logging and Monitoring: Learn how to access and analyze logs.\\n   [ ] Database Access: Configure access to the database and learn how to run queries.'),\n",
       " Document(metadata={'source': '../../../data/confluence/onboarding_checklist.md'}, page_content='[ ] Code Review Process: Understand the code review process and how to submit code for review.\\n   [ ] Complete First Task: Successfully complete a small task (e.g., bug fix, documentation update).'),\n",
       " Document(metadata={'source': '../../../data/confluence/onboarding_checklist.md'}, page_content='Section: Phase 3: Project Specifics (Week 2-4)'),\n",
       " Document(metadata={'source': '../../../data/confluence/onboarding_checklist.md'}, page_content='[ ] Project Overview: Learn about the project goals, architecture, and roadmap.\\n   [ ] Team Meetings: Attend team meetings and participate in discussions.\\n   [ ] Code Contributions: Start contributing code to the project.\\n   [ ] Mentorship: Meet regularly with your mentor to discuss progress and challenges.\\n   [ ] Documentation: Contribute to project documentation.\\n   [ ] Training: Attend any necessary training sessions.'),\n",
       " Document(metadata={'source': '../../../data/confluence/onboarding_checklist.md'}, page_content='[ ] Performance Goals: Define initial performance goals with your manager.'),\n",
       " Document(metadata={'source': '../../../data/confluence/onboarding_checklist.md'}, page_content='Section: Tools and Resources\\n\\n   [ ] Confluence: Access to team documentation, project information, and meeting notes.\\n   [ ] Jira: Access to bug tracking and task management.\\n   [ ] GitHub: Access to code repositories.\\n   [ ] Slack: Communication channel for team discussions.\\n   [ ] Internal Wiki: Access to internal documentation and policies.\\n\\nSection: Mentorship\\n\\n   Each new engineer is assigned a mentor who will provide guidance and support during the onboarding process.\\n\\nSection: Feedback'),\n",
       " Document(metadata={'source': '../../../data/confluence/onboarding_checklist.md'}, page_content='Section: Feedback\\n\\n   Regular feedback is collected from new engineers to improve the onboarding process.'),\n",
       " Document(metadata={'source': '../../../data/confluence/error_logging_monitoring.md'}, page_content='markdown\\nSection: Error Logging and Monitoring\\n\\nThis document details the error logging and monitoring strategy for the platform.\\n\\nSection: Logging Framework'),\n",
       " Document(metadata={'source': '../../../data/confluence/error_logging_monitoring.md'}, page_content='Section: Logging Framework\\n\\n   We utilize the SLF4J logging facade with Logback as the underlying implementation.\\n   Structured logging is employed using JSON format for easy parsing and analysis. Log fields include timestamp, log level, class name, method name, thread ID, and any relevant contextual data (e.g., user ID, request ID).\\n   Log levels are categorized as TRACE, DEBUG, INFO, WARN, and ERROR. Production environments are configured to log at the INFO level and above.'),\n",
       " Document(metadata={'source': '../../../data/confluence/error_logging_monitoring.md'}, page_content='Section: Log Aggregation and Analysis\\n\\n   Logs are aggregated using Fluentd and forwarded to Elasticsearch for indexing and storage.\\n   Kibana is used for log analysis, visualization, and alerting.\\n   Dashboards are configured to monitor key metrics such as error rates, response times, and system resource utilization.\\n\\nSection: Monitoring Tools'),\n",
       " Document(metadata={'source': '../../../data/confluence/error_logging_monitoring.md'}, page_content='Section: Monitoring Tools\\n\\n   Prometheus: Used for collecting and storing time-series data from various application components.\\n   Grafana: Used for visualizing Prometheus metrics and creating dashboards.\\n   Alertmanager: Used for configuring alerts based on Prometheus metrics. Alerts are sent via email, Slack, or PagerDuty.\\n\\nSection: Error Reporting'),\n",
       " Document(metadata={'source': '../../../data/confluence/error_logging_monitoring.md'}, page_content='Section: Error Reporting\\n\\n   Sentry: Integrated for real-time error tracking and reporting. Sentry captures stack traces, user context, and other relevant information to help diagnose and resolve errors quickly.\\n\\nSection: Code Example (Logging)\\n\\njava\\nimport org.slf4j.Logger;\\nimport org.slf4j.LoggerFactory;\\n\\npublic class MyClass {\\n  private static final Logger logger = LoggerFactory.getLogger(MyClass.class);'),\n",
       " Document(metadata={'source': '../../../data/confluence/error_logging_monitoring.md'}, page_content='public void myMethod(String input) {\\n    try {\\n      // Some code that might throw an exception\\n      int result = Integer.parseInt(input);\\n    } catch (NumberFormatException e) {\\n      logger.error(\"Invalid input: {}\", input, e); // Structured logging example\\n    }\\n  }\\n}')]"
      ]
     },
     "execution_count": 4,
     "metadata": {},
     "output_type": "execute_result"
    }
   ],
   "source": [
    "confluence_docs = process_md_folder(\"../../../data/confluence\")\n",
    "confluence_docs"
   ]
  },
  {
   "cell_type": "markdown",
   "metadata": {},
   "source": [
    "#### Load and pre-process proprofs HTML pages\n",
    "\n",
    "- Parses full HTML\n",
    "- Extracts meaningful sections by header tags (h1, h2, h3)\n",
    "- Skips script, style tags etc.\n",
    "- Preserves document hierarchy\n",
    "- Adds metadata with header path\n",
    "\n",
    "You may need to write your own HTML preprocessor by using beautifulSoup if the HTML code has lots of custom tags specific to your app"
   ]
  },
  {
   "cell_type": "code",
   "execution_count": 5,
   "metadata": {},
   "outputs": [],
   "source": [
    "from langchain.text_splitter import HTMLHeaderTextSplitter\n",
    "from langchain.schema import Document\n",
    "\n",
    "def process_html_file(file_path: str) -> list[Document]:\n",
    "    with open(file_path, \"r\", encoding=\"utf-8\") as f:\n",
    "        raw_md = f.read()\n",
    "\n",
    "    headers_to_split_on = [\n",
    "        (\"h1\", \"Section\"),\n",
    "        (\"h2\", \"Subsection\"),\n",
    "        (\"h3\", \"Detail\")\n",
    "    ]\n",
    "\n",
    "    splitter = HTMLHeaderTextSplitter(headers_to_split_on=headers_to_split_on)\n",
    "\n",
    "    raw_chunks = splitter.split_text_from_file(file_path)\n",
    "    \n",
    "    proprofs_docs = [\n",
    "        Document(page_content=chunk.page_content, metadata={\"source\": file_path})\n",
    "        for chunk in raw_chunks\n",
    "    ]\n",
    "\n",
    "    return proprofs_docs"
   ]
  },
  {
   "cell_type": "code",
   "execution_count": 6,
   "metadata": {},
   "outputs": [],
   "source": [
    "from pathlib import Path\n",
    "\n",
    "def process_html_folder(folder_path: str) -> list[Document]:\n",
    "    all_docs = []\n",
    "    for md_file in Path(folder_path).rglob(\"*.html\"):\n",
    "        docs = process_html_file(str(md_file))\n",
    "        all_docs.extend(docs)\n",
    "    return all_docs"
   ]
  },
  {
   "cell_type": "code",
   "execution_count": 7,
   "metadata": {},
   "outputs": [
    {
     "data": {
      "text/plain": [
       "[Document(metadata={'source': '../../../data/proprofs/user_monitoring.html'}, page_content=\"We're Working Hard to Keep Things Running Smoothly\"),\n",
       " Document(metadata={'source': '../../../data/proprofs/user_monitoring.html'}, page_content=\"We know it's important that our service is always available when you need it.  Here's how we ensure things run smoothly:\"),\n",
       " Document(metadata={'source': '../../../data/proprofs/user_monitoring.html'}, page_content='Keeping a Close Watch'),\n",
       " Document(metadata={'source': '../../../data/proprofs/user_monitoring.html'}, page_content=\"We have a team that constantly monitors our systems for any problems. We're alerted immediately if anything goes wrong.\"),\n",
       " Document(metadata={'source': '../../../data/proprofs/user_monitoring.html'}, page_content='Fixing Problems Quickly'),\n",
       " Document(metadata={'source': '../../../data/proprofs/user_monitoring.html'}, page_content='If we detect an issue, our team gets to work right away to fix it. Our goal is to minimize any disruption to you.'),\n",
       " Document(metadata={'source': '../../../data/proprofs/user_monitoring.html'}, page_content=\"How Will I Know if There's a Problem?\"),\n",
       " Document(metadata={'source': '../../../data/proprofs/user_monitoring.html'}, page_content=\"We'll post updates about any major service disruptions on our .  You can also follow us on social media for the latest news.  \\nStatus Page\"),\n",
       " Document(metadata={'source': '../../../data/proprofs/user_monitoring.html'}, page_content='What Can You Do?'),\n",
       " Document(metadata={'source': '../../../data/proprofs/user_monitoring.html'}, page_content=\"If you're experiencing problems, please let us know! so we can investigate.  \\nContact our support team\"),\n",
       " Document(metadata={'source': '../../../data/proprofs/user_monitoring.html'}, page_content=\"We're Committed to You\"),\n",
       " Document(metadata={'source': '../../../data/proprofs/user_monitoring.html'}, page_content=\"We're always working to improve our systems and provide a reliable service.  \\nWas this article helpful?  \\nComments:\"),\n",
       " Document(metadata={'source': '../../../data/proprofs/user_get_started.html'}, page_content=\"Welcome! Let's Get Started\"),\n",
       " Document(metadata={'source': '../../../data/proprofs/user_get_started.html'}, page_content='This guide will help you get up and running quickly with our platform.'),\n",
       " Document(metadata={'source': '../../../data/proprofs/user_get_started.html'}, page_content='Account Setup'),\n",
       " Document(metadata={'source': '../../../data/proprofs/user_get_started.html'}, page_content='First, you\\'ll need to create an account.  Click on the \"Sign Up\" button and follow the instructions.'),\n",
       " Document(metadata={'source': '../../../data/proprofs/user_get_started.html'}, page_content='Exploring the Interface'),\n",
       " Document(metadata={'source': '../../../data/proprofs/user_get_started.html'}, page_content='Take a look around!  The main sections are:  \\nYour overview of everything.  \\nDashboard:  \\nDescription of feature 1.  \\n[Feature 1]:  \\nDescription of feature 2.  \\n[Feature 2]:  \\nDescription of feature 3.  \\n[Feature 3]:'),\n",
       " Document(metadata={'source': '../../../data/proprofs/user_get_started.html'}, page_content='Start Using Key Features'),\n",
       " Document(metadata={'source': '../../../data/proprofs/user_get_started.html'}, page_content='We recommend starting with these key features:  \\nTask 1: How to achieve it  \\nTask 2: How to achieve it  \\nTask 3: How to achieve it  \\nClick on the \"contact us\" for prompt support  \\nWhere can i get support  \\nof course, contact us!  \\nCan I ask for more features  \\nWas this article helpful?  \\nComments:'),\n",
       " Document(metadata={'source': '../../../data/proprofs/user_authentication_overview.html'}, page_content='Keeping Your Account Safe'),\n",
       " Document(metadata={'source': '../../../data/proprofs/user_authentication_overview.html'}, page_content='Your account security is important to us!  This guide explains how we protect your information and what you can do to keep your account secure.'),\n",
       " Document(metadata={'source': '../../../data/proprofs/user_authentication_overview.html'}, page_content='Logging In Securely'),\n",
       " Document(metadata={'source': '../../../data/proprofs/user_authentication_overview.html'}, page_content=\"You'll need your email address and password to log in.  Here's how to keep your password safe:  \\nUse a mix of letters, numbers, and symbols.  \\nChoose a strong password:  \\nKeep it secret!  \\nDon't share your password:  \\nChange it regularly.  \\nKeep your password updated:\"),\n",
       " Document(metadata={'source': '../../../data/proprofs/user_authentication_overview.html'}, page_content='Two-Step Verification (Highly Recommended!)'),\n",
       " Document(metadata={'source': '../../../data/proprofs/user_authentication_overview.html'}, page_content='We strongly recommend using two-step verification for extra security. It adds a second layer of protection. Here\\'s how it works:  \\nYou enter your password as usual.  \\nWe send a code to your phone (via text or an app).  \\nYou enter that code to finish logging in.  \\nEven if someone knows your password, they can\\'t log in without that code from your phone!  \\nYou can turn it on in your account settings, under \"Security.\"'),\n",
       " Document(metadata={'source': '../../../data/proprofs/user_authentication_overview.html'}, page_content='What if I forget my Password?'),\n",
       " Document(metadata={'source': '../../../data/proprofs/user_authentication_overview.html'}, page_content='Click on \"Forgot Password\", and follow the prompts.'),\n",
       " Document(metadata={'source': '../../../data/proprofs/user_authentication_overview.html'}, page_content='Why is this important?'),\n",
       " Document(metadata={'source': '../../../data/proprofs/user_authentication_overview.html'}, page_content='Two-step verification makes it much harder for anyone to access your account without your permission.  \\nWas this article helpful?  \\nComments:'),\n",
       " Document(metadata={'source': '../../../data/proprofs/user_api_information.html'}, page_content='Information About Our System (For Advanced Users)'),\n",
       " Document(metadata={'source': '../../../data/proprofs/user_api_information.html'}, page_content=\"This page is for users who connect to our platform using APIs (Application Programming Interfaces).  Most users won't need this information.\"),\n",
       " Document(metadata={'source': '../../../data/proprofs/user_api_information.html'}, page_content=\"What's an API?\"),\n",
       " Document(metadata={'source': '../../../data/proprofs/user_api_information.html'}, page_content=\"An API allows different computer systems to talk to each other.  If you use tools that connect to our platform automatically, they're probably using our API.\"),\n",
       " Document(metadata={'source': '../../../data/proprofs/user_api_information.html'}, page_content='Keeping the API Up-to-Date'),\n",
       " Document(metadata={'source': '../../../data/proprofs/user_api_information.html'}, page_content='We update our API regularly with new features and improvements. We always transition to new versions smoothly.'),\n",
       " Document(metadata={'source': '../../../data/proprofs/user_api_information.html'}, page_content='What This Means For You'),\n",
       " Document(metadata={'source': '../../../data/proprofs/user_api_information.html'}, page_content=\"If you're using our API, we'll let you know about any important changes in advance, along with instructions for updating your connection. Old API's will exist for a time for migration.  \\nWas this article helpful?  \\nComments:\"),\n",
       " Document(metadata={'source': '../../../data/proprofs/user_new_features.html'}, page_content=\"What's New on Our Platform\"),\n",
       " Document(metadata={'source': '../../../data/proprofs/user_new_features.html'}, page_content=\"We're always working on new and exciting features to improve your experience!\"),\n",
       " Document(metadata={'source': '../../../data/proprofs/user_new_features.html'}, page_content='Trying Out New Things'),\n",
       " Document(metadata={'source': '../../../data/proprofs/user_new_features.html'}, page_content='Sometimes, we test new features with a limited group of users before rolling them out to everyone. This allows us to test with live users.'),\n",
       " Document(metadata={'source': '../../../data/proprofs/user_new_features.html'}, page_content='\"Behind the Scenes\" Magic'),\n",
       " Document(metadata={'source': '../../../data/proprofs/user_new_features.html'}, page_content='To release new features, we test users with small changes before releasing the feature to live, it is like a controlled real world test.'),\n",
       " Document(metadata={'source': '../../../data/proprofs/user_new_features.html'}, page_content='What This Means for You'),\n",
       " Document(metadata={'source': '../../../data/proprofs/user_new_features.html'}, page_content='Because the product is changing all the time, there will be consistent improvments. Please use the tool and let us know of any new features.  \\nWas this article helpful?  \\nComments:'),\n",
       " Document(metadata={'source': '../../../data/proprofs/user_updates.html'}, page_content='Keeping Our Platform Updated'),\n",
       " Document(metadata={'source': '../../../data/proprofs/user_updates.html'}, page_content=\"We regularly update our platform to bring you new features, bug fixes, and performance improvements. Here's what you should know:\"),\n",
       " Document(metadata={'source': '../../../data/proprofs/user_updates.html'}, page_content='Regular Improvements'),\n",
       " Document(metadata={'source': '../../../data/proprofs/user_updates.html'}, page_content='We release updates regularly to make our platform even better for you.'),\n",
       " Document(metadata={'source': '../../../data/proprofs/user_updates.html'}, page_content='Minimal Interruptions'),\n",
       " Document(metadata={'source': '../../../data/proprofs/user_updates.html'}, page_content='We try to make updates as smoothly as possible, often during off-peak times.'),\n",
       " Document(metadata={'source': '../../../data/proprofs/user_updates.html'}, page_content='How Will I Know When Updates Happen?'),\n",
       " Document(metadata={'source': '../../../data/proprofs/user_updates.html'}, page_content=\"We'll announce major updates in advance on our and on social media. Smaller updates usually happen automatically.  \\nStatus Page\"),\n",
       " Document(metadata={'source': '../../../data/proprofs/user_updates.html'}, page_content='What Happens During an Update?'),\n",
       " Document(metadata={'source': '../../../data/proprofs/user_updates.html'}, page_content=\"You might experience a brief moment of slowness while we update. We'll keep these interruptions to a minimum.  \\nSometimes during updates, a log out may occur for upmost security  \\nWhy am i getting logged out?  \\nAll tasks will remain the same  \\nWhat happens to my tasks during the update\"),\n",
       " Document(metadata={'source': '../../../data/proprofs/user_updates.html'}, page_content=\"We're Always Improving\"),\n",
       " Document(metadata={'source': '../../../data/proprofs/user_updates.html'}, page_content=\"We're committed to providing a great service that keeps getting better!  \\nWas this article helpful?  \\nComments:\")]"
      ]
     },
     "execution_count": 7,
     "metadata": {},
     "output_type": "execute_result"
    }
   ],
   "source": [
    "proprofs_docs = process_html_folder(\"../../../data/proprofs\")\n",
    "proprofs_docs"
   ]
  },
  {
   "cell_type": "code",
   "execution_count": 8,
   "metadata": {},
   "outputs": [],
   "source": [
    "all_docs = confluence_docs + proprofs_docs"
   ]
  },
  {
   "cell_type": "code",
   "execution_count": 14,
   "metadata": {},
   "outputs": [],
   "source": [
    "question = \"how to use feature flags?\""
   ]
  },
  {
   "cell_type": "markdown",
   "metadata": {},
   "source": [
    "### Generate Text Embeddings, Save to Vector DB and Similarity Search\n",
    "\n",
    "- Using OpenAI : Generate embeddings is not free, you need to have funded openai account and configure OpenAI key beforehand..\n",
    "- Using HuggingFace: Free\n",
    "\n",
    "If you are planning to use HF in production then you need to manage deployment and infra costs, but managed services like OpenAI you pay as you use and infra and deployment cost is included."
   ]
  },
  {
   "cell_type": "code",
   "execution_count": 9,
   "metadata": {},
   "outputs": [],
   "source": [
    "use_embeddings_model_provider = \"OpenAI\""
   ]
  },
  {
   "cell_type": "markdown",
   "metadata": {},
   "source": [
    "#### Using OpenAI - with 1536 dimensions"
   ]
  },
  {
   "cell_type": "code",
   "execution_count": 10,
   "metadata": {},
   "outputs": [],
   "source": [
    "from dotenv import load_dotenv\n",
    "import os\n",
    "\n",
    "load_dotenv()\n",
    "\n",
    "OPENAI_API_KEY = os.getenv(\"OPENAI_API_KEY\")"
   ]
  },
  {
   "cell_type": "code",
   "execution_count": 11,
   "metadata": {},
   "outputs": [],
   "source": [
    "from langchain_openai import OpenAIEmbeddings\n",
    "if (use_embeddings_model_provider == 'OpenAI'):\n",
    "    openai_model = OpenAIEmbeddings(openai_api_key=OPENAI_API_KEY)\n",
    "    openai_model"
   ]
  },
  {
   "cell_type": "code",
   "execution_count": 12,
   "metadata": {},
   "outputs": [],
   "source": [
    "from langchain_chroma import Chroma\n",
    "from langchain_core.documents import Document\n",
    "\n",
    "if (use_embeddings_model_provider == 'OpenAI'):\n",
    "\n",
    "    vector_store = Chroma.from_documents(\n",
    "        documents=all_docs,\n",
    "        embedding=openai_model,\n",
    "        collection_name=\"all_docs\",\n",
    "        persist_directory=\"../../chromadb_open_ai\"\n",
    "    )"
   ]
  },
  {
   "cell_type": "code",
   "execution_count": 15,
   "metadata": {},
   "outputs": [],
   "source": [
    "if (use_embeddings_model_provider == 'OpenAI'):\n",
    "    results = vector_store.similarity_search(question, k=10)\n",
    "\n",
    "    seen_sources = set()\n",
    "    unique_docs = []\n",
    "\n",
    "    for doc in results:\n",
    "        source = doc.metadata.get(\"source\")\n",
    "        if source and source not in seen_sources:\n",
    "            seen_sources.add(source)\n",
    "            unique_docs.append(doc)"
   ]
  },
  {
   "cell_type": "markdown",
   "metadata": {},
   "source": [
    "#### Using HuggingFace - with 384 dimensions"
   ]
  },
  {
   "cell_type": "code",
   "execution_count": 16,
   "metadata": {},
   "outputs": [],
   "source": [
    "from langchain.embeddings import HuggingFaceEmbeddings\n",
    "if (use_embeddings_model_provider == 'HuggingFace'):\n",
    "    hf_model = HuggingFaceEmbeddings(\n",
    "        model_name=\"sentence-transformers/all-MiniLM-L6-v2\"\n",
    "    )"
   ]
  },
  {
   "cell_type": "code",
   "execution_count": 17,
   "metadata": {},
   "outputs": [
    {
     "data": {
      "text/plain": [
       "<langchain_chroma.vectorstores.Chroma at 0x115940050>"
      ]
     },
     "execution_count": 17,
     "metadata": {},
     "output_type": "execute_result"
    }
   ],
   "source": [
    "from langchain_chroma import Chroma\n",
    "from langchain_core.documents import Document\n",
    "\n",
    "if (use_embeddings_model_provider == 'HuggingFace'):\n",
    "    vector_store = Chroma.from_documents(\n",
    "        documents=all_docs,\n",
    "        embedding=hf_model,\n",
    "        collection_name=\"all_docs\",\n",
    "        persist_directory=\"../../chromadb_huggingface\"\n",
    "    )\n",
    "vector_store"
   ]
  },
  {
   "cell_type": "code",
   "execution_count": 18,
   "metadata": {},
   "outputs": [],
   "source": [
    "if (use_embeddings_model_provider == 'HuggingFace'):\n",
    "    results = vector_store.similarity_search(question, k=10)\n",
    "\n",
    "    seen_sources = set()\n",
    "    unique_docs = []\n",
    "\n",
    "    for doc in results:\n",
    "        source = doc.metadata.get(\"source\")\n",
    "        if source and source not in seen_sources:\n",
    "            seen_sources.add(source)\n",
    "            unique_docs.append(doc)"
   ]
  },
  {
   "cell_type": "code",
   "execution_count": null,
   "metadata": {},
   "outputs": [],
   "source": [
    "unique_docs"
   ]
  },
  {
   "cell_type": "markdown",
   "metadata": {},
   "source": [
    "### Ask GenAI to Summarize"
   ]
  },
  {
   "cell_type": "code",
   "execution_count": 19,
   "metadata": {},
   "outputs": [],
   "source": [
    "from langchain.prompts import ChatPromptTemplate\n",
    "\n",
    "template = ChatPromptTemplate.from_messages([\n",
    "    (\"system\", \"You are a helpful assistant that summarizes internal documentation to answer user questions. Can you summarize in bullet points?\"),\n",
    "    (\"human\", \"Context:\\n{context}\"),\n",
    "    (\"human\", \"Question:\\n{question}\")\n",
    "])\n"
   ]
  },
  {
   "cell_type": "code",
   "execution_count": 20,
   "metadata": {},
   "outputs": [],
   "source": [
    "# Build context\n",
    "context = \"\\n\".join([doc.page_content for doc in unique_docs])\n"
   ]
  },
  {
   "cell_type": "code",
   "execution_count": 21,
   "metadata": {},
   "outputs": [
    {
     "name": "stderr",
     "output_type": "stream",
     "text": [
      "/var/folders/_n/r_wcx97x6dndxs_39rx8rz_40000gq/T/ipykernel_21250/1011332377.py:3: LangChainDeprecationWarning: The class `ChatOpenAI` was deprecated in LangChain 0.0.10 and will be removed in 1.0. An updated version of the class exists in the :class:`~langchain-openai package and should be used instead. To use it run `pip install -U :class:`~langchain-openai` and import as `from :class:`~langchain_openai import ChatOpenAI``.\n",
      "  llm = ChatOpenAI(temperature=0)  # or your preferred LLM\n"
     ]
    },
    {
     "name": "stdout",
     "output_type": "stream",
     "text": [
      "- Feature flags (or feature toggles) allow enabling or disabling features in production without deploying new code.\n",
      "- To use feature flags:\n",
      "  - Test new features in production with a limited number of users.\n",
      "  - Roll out features gradually to reduce risk.\n",
      "  - Quickly disable features if they cause problems.\n",
      "  - Experiment with different feature implementations.\n",
      "- Start using key features by testing users with small changes before releasing the feature live, similar to a controlled real-world test.\n"
     ]
    }
   ],
   "source": [
    "from langchain.chat_models import ChatOpenAI\n",
    "\n",
    "llm = ChatOpenAI(temperature=0)  # or your preferred LLM\n",
    "\n",
    "# Build prompt\n",
    "messages = template.format_messages(context=context, question=question)  # limit if needed\n",
    "\n",
    "# Run inference\n",
    "response = llm.invoke(messages)\n",
    "\n",
    "print(response.content)\n"
   ]
  },
  {
   "cell_type": "code",
   "execution_count": null,
   "metadata": {},
   "outputs": [],
   "source": []
  }
 ],
 "metadata": {
  "kernelspec": {
   "display_name": "Python (myvenv)",
   "language": "python",
   "name": "myvenv"
  },
  "language_info": {
   "codemirror_mode": {
    "name": "ipython",
    "version": 3
   },
   "file_extension": ".py",
   "mimetype": "text/x-python",
   "name": "python",
   "nbconvert_exporter": "python",
   "pygments_lexer": "ipython3",
   "version": "3.13.3"
  }
 },
 "nbformat": 4,
 "nbformat_minor": 4
}
