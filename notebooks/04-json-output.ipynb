{
 "cells": [
  {
   "cell_type": "code",
   "execution_count": 68,
   "metadata": {},
   "outputs": [],
   "source": [
    "#!chmod +x ../setup.sh\n",
    "#!cd .. && bash setup.sh VertexAI"
   ]
  },
  {
   "cell_type": "code",
   "execution_count": 69,
   "metadata": {},
   "outputs": [],
   "source": [
    "from langchain_google_vertexai import ChatVertexAI\n",
    "from langchain.prompts import ChatPromptTemplate"
   ]
  },
  {
   "cell_type": "code",
   "execution_count": 70,
   "metadata": {},
   "outputs": [],
   "source": [
    "from langchain_core.pydantic_v1 import BaseModel\n",
    "\n",
    "class CompanyRevenue (BaseModel):\n",
    "    name: str\n",
    "    revenue: float\n",
    "    net_margin: float\n",
    "    gross_margin: float\n"
   ]
  },
  {
   "cell_type": "code",
   "execution_count": 71,
   "metadata": {},
   "outputs": [],
   "source": [
    "template = ChatPromptTemplate.from_messages([\n",
    "    ('system', '''\n",
    "        You are an investor trying to fetch the financial details of the publicly traded company.\n",
    "    '''),\n",
    "    ('human', 'Company Ticker: {ticker}'),\n",
    "    ('human', 'Quarter: {quarter}'),\n",
    "    ('human', 'Question: {question}')\n",
    "])"
   ]
  },
  {
   "cell_type": "code",
   "execution_count": 72,
   "metadata": {},
   "outputs": [],
   "source": [
    "prompt = template.invoke({\n",
    "    \"ticker\": \"MANH\",\n",
    "    \"quarter\": \"2024 Q3\",\n",
    "    \"question\": \"Need these details metrics - name, revenue, net margin, gross margin and margins\"\n",
    "})"
   ]
  },
  {
   "cell_type": "code",
   "execution_count": 73,
   "metadata": {},
   "outputs": [
    {
     "data": {
      "text/plain": [
       "[SystemMessage(content='\\n        You are an investor trying to fetch the financial details of the publicly traded company.\\n    ', additional_kwargs={}, response_metadata={}),\n",
       " HumanMessage(content='Company Ticker: MANH', additional_kwargs={}, response_metadata={}),\n",
       " HumanMessage(content='Quarter: 2024 Q3', additional_kwargs={}, response_metadata={}),\n",
       " HumanMessage(content='Question: Need these details metrics - name, revenue, net margin, gross margin and margins', additional_kwargs={}, response_metadata={})]"
      ]
     },
     "execution_count": 73,
     "metadata": {},
     "output_type": "execute_result"
    }
   ],
   "source": [
    "prompt.messages"
   ]
  },
  {
   "cell_type": "code",
   "execution_count": 74,
   "metadata": {},
   "outputs": [],
   "source": [
    "# Load the Gemini model from Vertex AI\n",
    "llm = ChatVertexAI(\n",
    "    model_name=\"gemini-2.0-flash-001\",\n",
    "    temperature=1\n",
    ")"
   ]
  },
  {
   "cell_type": "code",
   "execution_count": 75,
   "metadata": {},
   "outputs": [],
   "source": [
    "structured_llm = llm.with_structured_output(CompanyRevenue)"
   ]
  },
  {
   "cell_type": "code",
   "execution_count": 76,
   "metadata": {},
   "outputs": [
    {
     "data": {
      "text/plain": [
       "CompanyRevenue(name='MANH', revenue=1000000.0, net_margin=0.2, gross_margin=0.1)"
      ]
     },
     "execution_count": 76,
     "metadata": {},
     "output_type": "execute_result"
    }
   ],
   "source": [
    "response = structured_llm.invoke (prompt)\n",
    "response"
   ]
  }
 ],
 "metadata": {
  "kernelspec": {
   "display_name": "Python (myvenv)",
   "language": "python",
   "name": "myvenv"
  },
  "language_info": {
   "codemirror_mode": {
    "name": "ipython",
    "version": 3
   },
   "file_extension": ".py",
   "mimetype": "text/x-python",
   "name": "python",
   "nbconvert_exporter": "python",
   "pygments_lexer": "ipython3",
   "version": "3.13.3"
  }
 },
 "nbformat": 4,
 "nbformat_minor": 2
}
