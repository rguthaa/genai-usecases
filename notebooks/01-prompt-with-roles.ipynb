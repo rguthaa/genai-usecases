{
 "cells": [
  {
   "cell_type": "code",
   "execution_count": 2,
   "metadata": {},
   "outputs": [],
   "source": [
    "#!chmod +x ../setup.sh\n",
    "#!cd .. && bash setup.sh VertexAI"
   ]
  },
  {
   "cell_type": "code",
   "execution_count": 3,
   "metadata": {},
   "outputs": [],
   "source": [
    "from langchain_google_vertexai import ChatVertexAI\n",
    "from langchain.prompts import PromptTemplate\n",
    "from langchain_core.messages import HumanMessage, SystemMessage"
   ]
  },
  {
   "cell_type": "code",
   "execution_count": 8,
   "metadata": {},
   "outputs": [],
   "source": [
    "# 1. Create a prompt template with a variable\n",
    "\n",
    "system_msg = SystemMessage(\n",
    "    '''You are a helpful assistant that responds to questions asked with humour'''\n",
    ")\n",
    "human_msg = HumanMessage('Give me 3 fun facts about LangChain')"
   ]
  },
  {
   "cell_type": "code",
   "execution_count": 10,
   "metadata": {},
   "outputs": [],
   "source": [
    "# 2. Load the Gemini model from Vertex AI\n",
    "llm = ChatVertexAI(\n",
    "    model_name=\"gemini-2.0-flash-001\",\n",
    "    temperature=0\n",
    ")"
   ]
  },
  {
   "cell_type": "code",
   "execution_count": 12,
   "metadata": {},
   "outputs": [
    {
     "name": "stdout",
     "output_type": "stream",
     "text": [
      "Alright, buckle up for some LangChain laughs:\n",
      "\n",
      "1.  **LangChain is like the Swiss Army Knife of LLMs:** It has so many tools and integrations, you might get overwhelmed trying to figure out what half of them do. But hey, at least you'll be prepared for anything... like a rogue chatbot uprising!\n",
      "2.  **It's named LangChain because... well, it chains together language models!** Groundbreaking, I know. You'd think with all its AI wizardry, they could have come up with a more creative name. Maybe \"BrainLinker 3000\" or \"The Neural Net Nexus\"?\n",
      "3.  **LangChain is so popular, it's practically a meme in the AI community.** If you're not using LangChain, are you even doing AI right? (Don't worry, you probably are. But it's fun to pretend there's a secret club.)\n"
     ]
    }
   ],
   "source": [
    "#3. Run the model using the formatted prompt\n",
    "response = llm.invoke([system_msg, human_msg])\n",
    "print(response.content)"
   ]
  }
 ],
 "metadata": {
  "kernelspec": {
   "display_name": "Python (myvenv)",
   "language": "python",
   "name": "myvenv"
  },
  "language_info": {
   "codemirror_mode": {
    "name": "ipython",
    "version": 3
   },
   "file_extension": ".py",
   "mimetype": "text/x-python",
   "name": "python",
   "nbconvert_exporter": "python",
   "pygments_lexer": "ipython3",
   "version": "3.13.3"
  }
 },
 "nbformat": 4,
 "nbformat_minor": 2
}
