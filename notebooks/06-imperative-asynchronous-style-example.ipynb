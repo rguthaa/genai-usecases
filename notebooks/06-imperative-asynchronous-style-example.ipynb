{
 "cells": [
  {
   "cell_type": "code",
   "execution_count": 66,
   "metadata": {},
   "outputs": [],
   "source": [
    "#!chmod +x ../setup.sh\n",
    "#!cd .. && bash setup.sh VertexAI"
   ]
  },
  {
   "cell_type": "code",
   "execution_count": 67,
   "metadata": {},
   "outputs": [],
   "source": [
    "from langchain_google_vertexai import ChatVertexAI\n",
    "from langchain.prompts import ChatPromptTemplate\n",
    "from langchain_core.runnables import chain"
   ]
  },
  {
   "cell_type": "code",
   "execution_count": 68,
   "metadata": {},
   "outputs": [],
   "source": [
    "from langchain_core.pydantic_v1 import BaseModel\n",
    "\n",
    "class CompanyRevenue (BaseModel):\n",
    "    name: str\n",
    "    revenue: float\n",
    "    net_margin: float\n",
    "    gross_margin: float\n"
   ]
  },
  {
   "cell_type": "code",
   "execution_count": 69,
   "metadata": {},
   "outputs": [],
   "source": [
    "template = ChatPromptTemplate.from_messages([\n",
    "    ('system', '''\n",
    "        You are an investor trying to fetch publicly traded companies listed in Dow Jones.\n",
    "    '''),\n",
    "    ('human', 'Financial Year: {year}'),\n",
    "    ('human', 'Question: {question}')\n",
    "])"
   ]
  },
  {
   "cell_type": "code",
   "execution_count": 70,
   "metadata": {},
   "outputs": [],
   "source": [
    "# Load the Gemini model from Vertex AI\n",
    "llm = ChatVertexAI(\n",
    "    model_name=\"gemini-2.0-flash-001\",\n",
    "    temperature=1\n",
    ")"
   ]
  },
  {
   "cell_type": "code",
   "execution_count": 71,
   "metadata": {},
   "outputs": [],
   "source": [
    "@chain\n",
    "def chatbot (values):\n",
    "    prompt = template.invoke(values)\n",
    "\n",
    "    for token in llm.stream(prompt):\n",
    "        yield token"
   ]
  },
  {
   "cell_type": "code",
   "execution_count": 72,
   "metadata": {},
   "outputs": [
    {
     "name": "stdout",
     "output_type": "stream",
     "text": [
      "content='Okay' additional_kwargs={} response_metadata={'safety_ratings': [], 'usage_metadata': {}} id='run-ebf44c5f-c314-40e7-9b9f-2828ebfea3fc'\n",
      "content=', I understand' additional_kwargs={} response_metadata={'safety_ratings': [], 'usage_metadata': {}} id='run-ebf44c5f-c314-40e7-9b9f-2828ebfea3fc'\n",
      "content=\". I'll use publicly available information, likely from Yahoo Finance or similar sources, to\" additional_kwargs={} response_metadata={'safety_ratings': [], 'usage_metadata': {}} id='run-ebf44c5f-c314-40e7-9b9f-2828ebfea3fc'\n",
      "content=' find Dow Jones companies with a net profit margin exceeding 20% for the most' additional_kwargs={} response_metadata={'safety_ratings': [], 'usage_metadata': {}} id='run-ebf44c5f-c314-40e7-9b9f-2828ebfea3fc'\n",
      "content=\" recent fiscal year (2024).  It's important to note that fiscal year data for 2024 might not be fully reported for\" additional_kwargs={} response_metadata={'safety_ratings': [], 'usage_metadata': {}} id='run-ebf44c5f-c314-40e7-9b9f-2828ebfea3fc'\n",
      "content=' all companies until well into 2025. Therefore, I will likely be looking at the most recent data available, which may be for the trailing twelve' additional_kwargs={} response_metadata={'safety_ratings': [], 'usage_metadata': {}} id='run-ebf44c5f-c314-40e7-9b9f-2828ebfea3fc'\n",
      "content=\" months (TTM) or the last complete fiscal year (2023).\\n\\nHere's my approach:\\n\\n1.  **Identify Dow Jones Companies:**  I'll start with a current list of the 30 companies in\" additional_kwargs={} response_metadata={'safety_ratings': [], 'usage_metadata': {}} id='run-ebf44c5f-c314-40e7-9b9f-2828ebfea3fc'\n",
      "content=' the Dow Jones Industrial Average.\\n\\n2.  **Data Retrieval:** I will go to Yahoo Finance (or a similar financial data site) and search for each company individually. I will specifically look for the \"Net Profit Margin\" statistic,' additional_kwargs={} response_metadata={'safety_ratings': [], 'usage_metadata': {}} id='run-ebf44c5f-c314-40e7-9b9f-2828ebfea3fc'\n",
      "content=' usually found in the \"Statistics\" or \"Financials\" section of the company\\'s profile.\\n\\n3.  **Screening and Filtering:**  I will record the net profit margin for each company and then filter the list to only include those with a margin greater than 20%.\\n\\n4.  **Verification' additional_kwargs={} response_metadata={'safety_ratings': [], 'usage_metadata': {}} id='run-ebf44c5f-c314-40e7-9b9f-2828ebfea3fc'\n",
      "content=\" and Reporting:** I will double-check the data and report the companies that meet the criteria. I will also mention the source of the data and the date it was accessed.\\n\\n**Important Considerations:**\\n\\n*   **Data Lag:** As mentioned, complete 2024 fiscal year data will be limited. I'll\" additional_kwargs={} response_metadata={'safety_ratings': [], 'usage_metadata': {}} id='run-ebf44c5f-c314-40e7-9b9f-2828ebfea3fc'\n",
      "content=' use the most up-to-date information available, but be aware it might be TTM or from the previous fiscal year.\\n*   **Data Accuracy:** While I will make every effort to ensure accuracy, I am relying on publicly available data, which may contain errors. It is always best to consult with a financial professional' additional_kwargs={} response_metadata={'safety_ratings': [], 'usage_metadata': {}} id='run-ebf44c5f-c314-40e7-9b9f-2828ebfea3fc'\n",
      "content=' before making investment decisions.\\n*   **Dynamic Data:** Financial data is constantly changing. The information I provide will be accurate as of the time I access it, but it may not be accurate at a later date.\\n\\n**Disclaimer:** *I am an AI chatbot and cannot provide financial advice. This information is for' additional_kwargs={} response_metadata={'safety_ratings': [], 'usage_metadata': {}} id='run-ebf44c5f-c314-40e7-9b9f-2828ebfea3fc'\n",
      "content=\" informational purposes only and should not be considered a recommendation to buy or sell any securities.*\\n\\nLet me begin gathering the data. I'll post my findings shortly.\\n\" additional_kwargs={} response_metadata={'safety_ratings': [], 'usage_metadata': {}, 'finish_reason': 'STOP', 'model_name': 'gemini-2.0-flash-001'} id='run-ebf44c5f-c314-40e7-9b9f-2828ebfea3fc' usage_metadata={'input_tokens': 50, 'output_tokens': 495, 'total_tokens': 545}\n"
     ]
    }
   ],
   "source": [
    "for part in chatbot.stream ({\n",
    "    \"year\": \"2024\",\n",
    "    \"question\": \"Fetch the all companies with net margin over 20%, you can use any free tools like yahoo finance\"\n",
    "}):\n",
    "    print (part)"
   ]
  }
 ],
 "metadata": {
  "kernelspec": {
   "display_name": "Python (myvenv)",
   "language": "python",
   "name": "myvenv"
  },
  "language_info": {
   "codemirror_mode": {
    "name": "ipython",
    "version": 3
   },
   "file_extension": ".py",
   "mimetype": "text/x-python",
   "name": "python",
   "nbconvert_exporter": "python",
   "pygments_lexer": "ipython3",
   "version": "3.13.3"
  }
 },
 "nbformat": 4,
 "nbformat_minor": 2
}
