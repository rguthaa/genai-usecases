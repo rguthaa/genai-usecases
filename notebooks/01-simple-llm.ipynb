{
 "cells": [
  {
   "cell_type": "code",
   "execution_count": 16,
   "metadata": {},
   "outputs": [],
   "source": [
    "#!chmod +x ../setup.sh\n",
    "#!cd .. && bash setup.sh VertexAI"
   ]
  },
  {
   "cell_type": "code",
   "execution_count": 17,
   "metadata": {},
   "outputs": [],
   "source": [
    "from langchain_google_vertexai import ChatVertexAI\n",
    "from langchain.prompts import PromptTemplate"
   ]
  },
  {
   "cell_type": "code",
   "execution_count": 18,
   "metadata": {},
   "outputs": [],
   "source": [
    "# 1. Create a prompt template with a variable\n",
    "prompt = PromptTemplate.from_template(\"Give me 3 fun facts about {topic}\")"
   ]
  },
  {
   "cell_type": "code",
   "execution_count": 19,
   "metadata": {},
   "outputs": [],
   "source": [
    "# 2. Load the Gemini model from Vertex AI\n",
    "llm = ChatVertexAI(\n",
    "    model_name=\"gemini-2.0-flash-001\",\n",
    "    temperature=1\n",
    ")"
   ]
  },
  {
   "cell_type": "code",
   "execution_count": 20,
   "metadata": {},
   "outputs": [],
   "source": [
    "# 3. Create a chain using Runnable-style composition\n",
    "chain = prompt | llm"
   ]
  },
  {
   "cell_type": "code",
   "execution_count": 21,
   "metadata": {},
   "outputs": [
    {
     "name": "stdout",
     "output_type": "stream",
     "text": [
      "Okay, here are three fun facts about Donald Trump:\n",
      "\n",
      "1.  **He appeared in \"Home Alone 2: Lost in New York.\"** Trump owned the Plaza Hotel at the time, where some scenes were filmed. He can be seen giving directions to Kevin McCallister.\n",
      "2.  **He once owned a USFL football team.** In the 1980s, Trump owned the New Jersey Generals, and he pushed the league to compete directly with the NFL by moving to a fall schedule, a decision that ultimately contributed to the league's demise.\n",
      "3.  **He has a star on the Hollywood Walk of Fame.** It was awarded for his work as the producer of \"The Apprentice.\"\n"
     ]
    }
   ],
   "source": [
    "#3. Run the model using the formatted prompt\n",
    "response = chain.invoke({\"topic\": \"Donald Trump\"})\n",
    "print(response.content)"
   ]
  }
 ],
 "metadata": {
  "kernelspec": {
   "display_name": "base",
   "language": "python",
   "name": "python3"
  },
  "language_info": {
   "codemirror_mode": {
    "name": "ipython",
    "version": 3
   },
   "file_extension": ".py",
   "mimetype": "text/x-python",
   "name": "python",
   "nbconvert_exporter": "python",
   "pygments_lexer": "ipython3",
   "version": "3.12.2"
  }
 },
 "nbformat": 4,
 "nbformat_minor": 2
}
