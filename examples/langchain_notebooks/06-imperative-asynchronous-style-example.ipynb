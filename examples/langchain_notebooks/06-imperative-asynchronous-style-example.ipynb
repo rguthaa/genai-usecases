{
 "cells": [
  {
   "cell_type": "code",
   "execution_count": 66,
   "metadata": {},
   "outputs": [],
   "source": [
    "#!chmod +x ../setup.sh\n",
    "#!cd .. && bash setup.sh VertexAI"
   ]
  },
  {
   "cell_type": "code",
   "execution_count": 67,
   "metadata": {},
   "outputs": [],
   "source": [
    "from langchain_google_vertexai import ChatVertexAI\n",
    "from langchain.prompts import ChatPromptTemplate\n",
    "from langchain_core.runnables import chain"
   ]
  },
  {
   "cell_type": "code",
   "execution_count": 68,
   "metadata": {},
   "outputs": [],
   "source": [
    "from langchain_core.pydantic_v1 import BaseModel\n",
    "\n",
    "class CompanyRevenue (BaseModel):\n",
    "    name: str\n",
    "    revenue: float\n",
    "    net_margin: float\n",
    "    gross_margin: float\n"
   ]
  },
  {
   "cell_type": "code",
   "execution_count": 69,
   "metadata": {},
   "outputs": [],
   "source": [
    "template = ChatPromptTemplate.from_messages([\n",
    "    ('system', '''\n",
    "        You are an investor trying to fetch publicly traded companies listed in Dow Jones.\n",
    "    '''),\n",
    "    ('human', 'Financial Year: {year}'),\n",
    "    ('human', 'Question: {question}')\n",
    "])"
   ]
  },
  {
   "cell_type": "code",
   "execution_count": 70,
   "metadata": {},
   "outputs": [],
   "source": [
    "# Load the Gemini model from Vertex AI\n",
    "llm = ChatVertexAI(\n",
    "    model_name=\"gemini-2.0-flash-001\",\n",
    "    temperature=1\n",
    ")"
   ]
  },
  {
   "cell_type": "code",
   "execution_count": 71,
   "metadata": {},
   "outputs": [],
   "source": [
    "@chain\n",
    "def chatbot (values):\n",
    "    prompt = template.invoke(values)\n",
    "\n",
    "    for token in llm.stream(prompt):\n",
    "        yield token"
   ]
  },
  {
   "cell_type": "code",
   "execution_count": null,
   "metadata": {},
   "outputs": [],
   "source": [
    "for part in chatbot.stream ({\n",
    "    \"year\": \"2024\",\n",
    "    \"question\": \"Fetch the all companies with net margin over 20%, you can use any free tools like yahoo finance\"\n",
    "}):\n",
    "    print (part)"
   ]
  }
 ],
 "metadata": {
  "kernelspec": {
   "display_name": "Python (myvenv)",
   "language": "python",
   "name": "myvenv"
  },
  "language_info": {
   "codemirror_mode": {
    "name": "ipython",
    "version": 3
   },
   "file_extension": ".py",
   "mimetype": "text/x-python",
   "name": "python",
   "nbconvert_exporter": "python",
   "pygments_lexer": "ipython3",
   "version": "3.13.3"
  }
 },
 "nbformat": 4,
 "nbformat_minor": 2
}
